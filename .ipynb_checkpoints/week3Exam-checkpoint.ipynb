{
 "cells": [
  {
   "cell_type": "code",
   "execution_count": 111,
   "metadata": {},
   "outputs": [],
   "source": [
    "import numpy as np\n",
    "from scipy.optimize import minimize\n",
    "\n",
    "def f(x):\n",
    "    return np.sin(x / 5.0) * np.exp(x / 10.0) + 5 * np.exp(-x / 2.0)"
   ]
  },
  {
   "cell_type": "code",
   "execution_count": 119,
   "metadata": {
    "scrolled": true
   },
   "outputs": [
    {
     "data": {
      "text/plain": [
       "[3.252216865271419,\n",
       " 2.3150338432311584,\n",
       " 1.8778384165859365,\n",
       " 1.7468459495903677,\n",
       " 1.7977761044492575,\n",
       " 1.9472212830789883,\n",
       " 2.135438978951904,\n",
       " 2.316170159053224,\n",
       " 2.450823645392045,\n",
       " 2.5054164070002463,\n",
       " 2.4492912840300085,\n",
       " 2.25501049731666,\n",
       " 1.8990446617425354,\n",
       " 1.3630033452333579,\n",
       " 0.6352214195786656,\n",
       " -0.28745171200358255,\n",
       " -1.397801207073814,\n",
       " -2.676475628709164,\n",
       " -4.0904430133692005,\n",
       " -5.591829093992169,\n",
       " -7.117298166960005,\n",
       " -8.588138054438438,\n",
       " -9.911204723480136,\n",
       " -10.98086746628855,\n",
       " -11.682070551589783,\n",
       " -11.894590748771716,\n",
       " -11.498521406546491,\n",
       " -10.38095272054477,\n",
       " -8.44374502588738]"
      ]
     },
     "execution_count": 119,
     "metadata": {},
     "output_type": "execute_result"
    }
   ],
   "source": [
    "arr = np.arange(1, 30)\n",
    "y = [f(x) for x in arr]\n",
    "y"
   ]
  },
  {
   "cell_type": "code",
   "execution_count": 121,
   "metadata": {},
   "outputs": [
    {
     "data": {
      "text/plain": [
       "      fun: 1.7452682903447336\n",
       " hess_inv: array([[5.98752645]])\n",
       "      jac: array([-2.04145908e-06])\n",
       "  message: 'Optimization terminated successfully.'\n",
       "     nfev: 21\n",
       "      nit: 6\n",
       "     njev: 7\n",
       "   status: 0\n",
       "  success: True\n",
       "        x: array([4.13627628])"
      ]
     },
     "execution_count": 121,
     "metadata": {},
     "output_type": "execute_result"
    }
   ],
   "source": [
    "minimize(f, 2, method='BFGS')"
   ]
  },
  {
   "cell_type": "code",
   "execution_count": null,
   "metadata": {},
   "outputs": [],
   "source": []
  }
 ],
 "metadata": {
  "kernelspec": {
   "display_name": "Python 3",
   "language": "python",
   "name": "python3"
  },
  "language_info": {
   "codemirror_mode": {
    "name": "ipython",
    "version": 3
   },
   "file_extension": ".py",
   "mimetype": "text/x-python",
   "name": "python",
   "nbconvert_exporter": "python",
   "pygments_lexer": "ipython3",
   "version": "3.7.1"
  }
 },
 "nbformat": 4,
 "nbformat_minor": 2
}
